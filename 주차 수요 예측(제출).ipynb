{
 "cells": [
  {
   "cell_type": "code",
   "execution_count": 24,
   "id": "fde9e222",
   "metadata": {
    "ExecuteTime": {
     "end_time": "2021-07-15T11:45:25.963769Z",
     "start_time": "2021-07-15T11:45:25.955735Z"
    }
   },
   "outputs": [],
   "source": [
    "import pandas as pd\n",
    "import numpy as np\n",
    "from sklearn.ensemble import RandomForestRegressor\n",
    "from tqdm import tqdm\n",
    "pd.options.display.float_format = '{:.6f}'.format"
   ]
  },
  {
   "cell_type": "markdown",
   "id": "8371ff54",
   "metadata": {},
   "source": [
    "# 데이터 불러오기"
   ]
  },
  {
   "cell_type": "code",
   "execution_count": 26,
   "id": "8a9a38e6",
   "metadata": {
    "ExecuteTime": {
     "end_time": "2021-07-15T11:45:46.231947Z",
     "start_time": "2021-07-15T11:45:46.191982Z"
    }
   },
   "outputs": [],
   "source": [
    "train = pd.read_csv('./Dataset/train.csv')\n",
    "test = pd.read_csv('./Dataset/test.csv')\n",
    "car_2020 = pd.read_csv('./Dataset/car_2020.csv',encoding='cp949')\n",
    "submission = pd.read_csv('./Dataset/sample_submission.csv')"
   ]
  },
  {
   "cell_type": "code",
   "execution_count": 27,
   "id": "f1e37a5f",
   "metadata": {
    "ExecuteTime": {
     "end_time": "2021-07-15T11:45:53.561453Z",
     "start_time": "2021-07-15T11:45:53.537451Z"
    }
   },
   "outputs": [
    {
     "data": {
      "text/html": [
       "<div>\n",
       "<style scoped>\n",
       "    .dataframe tbody tr th:only-of-type {\n",
       "        vertical-align: middle;\n",
       "    }\n",
       "\n",
       "    .dataframe tbody tr th {\n",
       "        vertical-align: top;\n",
       "    }\n",
       "\n",
       "    .dataframe thead th {\n",
       "        text-align: right;\n",
       "    }\n",
       "</style>\n",
       "<table border=\"1\" class=\"dataframe\">\n",
       "  <thead>\n",
       "    <tr style=\"text-align: right;\">\n",
       "      <th></th>\n",
       "      <th>단지코드</th>\n",
       "      <th>총세대수</th>\n",
       "      <th>임대건물구분</th>\n",
       "      <th>지역</th>\n",
       "      <th>공급유형</th>\n",
       "      <th>전용면적</th>\n",
       "      <th>전용면적별세대수</th>\n",
       "      <th>공가수</th>\n",
       "      <th>자격유형</th>\n",
       "      <th>임대보증금</th>\n",
       "      <th>임대료</th>\n",
       "      <th>도보 10분거리 내 지하철역 수(환승노선 수 반영)</th>\n",
       "      <th>도보 10분거리 내 버스정류장 수</th>\n",
       "      <th>단지내주차면수</th>\n",
       "      <th>등록차량수</th>\n",
       "    </tr>\n",
       "  </thead>\n",
       "  <tbody>\n",
       "    <tr>\n",
       "      <th>0</th>\n",
       "      <td>C2483</td>\n",
       "      <td>900</td>\n",
       "      <td>아파트</td>\n",
       "      <td>경상북도</td>\n",
       "      <td>국민임대</td>\n",
       "      <td>39.720000</td>\n",
       "      <td>134</td>\n",
       "      <td>38.000000</td>\n",
       "      <td>A</td>\n",
       "      <td>15667000</td>\n",
       "      <td>103680</td>\n",
       "      <td>0.000000</td>\n",
       "      <td>3.000000</td>\n",
       "      <td>1425.000000</td>\n",
       "      <td>1015.000000</td>\n",
       "    </tr>\n",
       "    <tr>\n",
       "      <th>1</th>\n",
       "      <td>C2483</td>\n",
       "      <td>900</td>\n",
       "      <td>아파트</td>\n",
       "      <td>경상북도</td>\n",
       "      <td>국민임대</td>\n",
       "      <td>39.720000</td>\n",
       "      <td>15</td>\n",
       "      <td>38.000000</td>\n",
       "      <td>A</td>\n",
       "      <td>15667000</td>\n",
       "      <td>103680</td>\n",
       "      <td>0.000000</td>\n",
       "      <td>3.000000</td>\n",
       "      <td>1425.000000</td>\n",
       "      <td>1015.000000</td>\n",
       "    </tr>\n",
       "    <tr>\n",
       "      <th>2</th>\n",
       "      <td>C2483</td>\n",
       "      <td>900</td>\n",
       "      <td>아파트</td>\n",
       "      <td>경상북도</td>\n",
       "      <td>국민임대</td>\n",
       "      <td>51.930000</td>\n",
       "      <td>385</td>\n",
       "      <td>38.000000</td>\n",
       "      <td>A</td>\n",
       "      <td>27304000</td>\n",
       "      <td>184330</td>\n",
       "      <td>0.000000</td>\n",
       "      <td>3.000000</td>\n",
       "      <td>1425.000000</td>\n",
       "      <td>1015.000000</td>\n",
       "    </tr>\n",
       "    <tr>\n",
       "      <th>3</th>\n",
       "      <td>C2483</td>\n",
       "      <td>900</td>\n",
       "      <td>아파트</td>\n",
       "      <td>경상북도</td>\n",
       "      <td>국민임대</td>\n",
       "      <td>51.930000</td>\n",
       "      <td>15</td>\n",
       "      <td>38.000000</td>\n",
       "      <td>A</td>\n",
       "      <td>27304000</td>\n",
       "      <td>184330</td>\n",
       "      <td>0.000000</td>\n",
       "      <td>3.000000</td>\n",
       "      <td>1425.000000</td>\n",
       "      <td>1015.000000</td>\n",
       "    </tr>\n",
       "    <tr>\n",
       "      <th>4</th>\n",
       "      <td>C2483</td>\n",
       "      <td>900</td>\n",
       "      <td>아파트</td>\n",
       "      <td>경상북도</td>\n",
       "      <td>국민임대</td>\n",
       "      <td>51.930000</td>\n",
       "      <td>41</td>\n",
       "      <td>38.000000</td>\n",
       "      <td>A</td>\n",
       "      <td>27304000</td>\n",
       "      <td>184330</td>\n",
       "      <td>0.000000</td>\n",
       "      <td>3.000000</td>\n",
       "      <td>1425.000000</td>\n",
       "      <td>1015.000000</td>\n",
       "    </tr>\n",
       "  </tbody>\n",
       "</table>\n",
       "</div>"
      ],
      "text/plain": [
       "    단지코드  총세대수 임대건물구분    지역  공급유형      전용면적  전용면적별세대수       공가수 자격유형  \\\n",
       "0  C2483   900    아파트  경상북도  국민임대 39.720000       134 38.000000    A   \n",
       "1  C2483   900    아파트  경상북도  국민임대 39.720000        15 38.000000    A   \n",
       "2  C2483   900    아파트  경상북도  국민임대 51.930000       385 38.000000    A   \n",
       "3  C2483   900    아파트  경상북도  국민임대 51.930000        15 38.000000    A   \n",
       "4  C2483   900    아파트  경상북도  국민임대 51.930000        41 38.000000    A   \n",
       "\n",
       "      임대보증금     임대료  도보 10분거리 내 지하철역 수(환승노선 수 반영)  도보 10분거리 내 버스정류장 수  \\\n",
       "0  15667000  103680                      0.000000            3.000000   \n",
       "1  15667000  103680                      0.000000            3.000000   \n",
       "2  27304000  184330                      0.000000            3.000000   \n",
       "3  27304000  184330                      0.000000            3.000000   \n",
       "4  27304000  184330                      0.000000            3.000000   \n",
       "\n",
       "      단지내주차면수       등록차량수  \n",
       "0 1425.000000 1015.000000  \n",
       "1 1425.000000 1015.000000  \n",
       "2 1425.000000 1015.000000  \n",
       "3 1425.000000 1015.000000  \n",
       "4 1425.000000 1015.000000  "
      ]
     },
     "execution_count": 27,
     "metadata": {},
     "output_type": "execute_result"
    }
   ],
   "source": [
    "train.head()"
   ]
  },
  {
   "cell_type": "markdown",
   "id": "e86a3249",
   "metadata": {},
   "source": [
    "car_2020 = car_2020.drop(['시군구(1)'], axis=1)\n",
    "car_2020.columns = ['지역','월','항목','분류','자동차수']\n",
    "car_2020['월'] = pd.to_datetime(car_2020['월']).dt.month\n",
    "car_2020.head()"
   ]
  },
  {
   "cell_type": "code",
   "execution_count": 28,
   "id": "4fefe6c1",
   "metadata": {
    "ExecuteTime": {
     "end_time": "2021-07-15T11:45:55.134924Z",
     "start_time": "2021-07-15T11:45:55.110869Z"
    }
   },
   "outputs": [
    {
     "data": {
      "text/plain": [
       "단지코드                              0\n",
       "총세대수                              0\n",
       "임대건물구분                            0\n",
       "지역                                0\n",
       "공급유형                              0\n",
       "전용면적                              0\n",
       "전용면적별세대수                          0\n",
       "공가수                               0\n",
       "자격유형                              0\n",
       "임대보증금                           569\n",
       "임대료                             569\n",
       "도보 10분거리 내 지하철역 수(환승노선 수 반영)    211\n",
       "도보 10분거리 내 버스정류장 수                4\n",
       "단지내주차면수                           0\n",
       "등록차량수                             0\n",
       "dtype: int64"
      ]
     },
     "execution_count": 28,
     "metadata": {},
     "output_type": "execute_result"
    }
   ],
   "source": [
    "train.isnull().sum()"
   ]
  },
  {
   "cell_type": "markdown",
   "id": "ffbee22f",
   "metadata": {},
   "source": [
    "# 컬렴명 바꿔주기"
   ]
  },
  {
   "cell_type": "code",
   "execution_count": 29,
   "id": "8a1e4b55",
   "metadata": {
    "ExecuteTime": {
     "end_time": "2021-07-15T11:45:57.478749Z",
     "start_time": "2021-07-15T11:45:57.470744Z"
    }
   },
   "outputs": [],
   "source": [
    "train.columns = [\n",
    "    '단지코드', '총세대수', '임대건물구분', '지역', '공급유형', '전용면적', '전용면적별세대수', '공가수', '신분',\n",
    "    '임대보증금', '임대료', '지하철', '버스',\n",
    "    '단지내주차면수', '등록차량수'\n",
    "]\n"
   ]
  },
  {
   "cell_type": "markdown",
   "id": "a2ee7ec0",
   "metadata": {},
   "source": [
    "# 지하철 Y or N로 변경"
   ]
  },
  {
   "cell_type": "code",
   "execution_count": 30,
   "id": "d4ea84cb",
   "metadata": {
    "ExecuteTime": {
     "end_time": "2021-07-15T11:45:59.573979Z",
     "start_time": "2021-07-15T11:45:59.565851Z"
    }
   },
   "outputs": [],
   "source": [
    "train['지하철'] = train['지하철'].fillna(0)\n",
    "train['지하철'] = np.where(train['지하철'] == 0, 0, 1)"
   ]
  },
  {
   "cell_type": "markdown",
   "id": "13db3682",
   "metadata": {},
   "source": [
    "# 결측치 처리"
   ]
  },
  {
   "cell_type": "code",
   "execution_count": 31,
   "id": "6c2a944b",
   "metadata": {
    "ExecuteTime": {
     "end_time": "2021-07-15T11:46:00.721819Z",
     "start_time": "2021-07-15T11:46:00.705805Z"
    }
   },
   "outputs": [],
   "source": [
    "train.loc[train.임대보증금=='-', '임대보증금'] = np.nan\n",
    "train.loc[train.임대료=='-', '임대료'] = np.nan\n",
    "train['임대보증금'] = train['임대보증금'].astype(float)\n",
    "train['임대료'] = train['임대료'].astype(float)\n",
    "train['임대보증금'] = train['임대보증금'].fillna(0)\n",
    "train['임대료'] = train['임대료'].fillna(0)"
   ]
  },
  {
   "cell_type": "code",
   "execution_count": 32,
   "id": "2ca7b917",
   "metadata": {
    "ExecuteTime": {
     "end_time": "2021-07-15T11:46:02.655127Z",
     "start_time": "2021-07-15T11:46:02.647096Z"
    }
   },
   "outputs": [],
   "source": [
    "train['버스'] = train['버스'].fillna(train['버스'].mean())"
   ]
  },
  {
   "cell_type": "code",
   "execution_count": 33,
   "id": "16c3883b",
   "metadata": {
    "ExecuteTime": {
     "end_time": "2021-07-15T11:46:03.900464Z",
     "start_time": "2021-07-15T11:46:03.876432Z"
    }
   },
   "outputs": [
    {
     "data": {
      "text/plain": [
       "단지코드        0\n",
       "총세대수        0\n",
       "임대건물구분      0\n",
       "지역          0\n",
       "공급유형        0\n",
       "전용면적        0\n",
       "전용면적별세대수    0\n",
       "공가수         0\n",
       "신분          0\n",
       "임대보증금       0\n",
       "임대료         0\n",
       "지하철         0\n",
       "버스          0\n",
       "단지내주차면수     0\n",
       "등록차량수       0\n",
       "dtype: int64"
      ]
     },
     "execution_count": 33,
     "metadata": {},
     "output_type": "execute_result"
    }
   ],
   "source": [
    "train.isnull().sum()"
   ]
  },
  {
   "cell_type": "markdown",
   "id": "003a226b",
   "metadata": {},
   "source": [
    "# 임대건물구분 : 아파트->상가 / 전용면적별세대수 : x->1"
   ]
  },
  {
   "cell_type": "code",
   "execution_count": 54,
   "id": "7eac904f",
   "metadata": {
    "ExecuteTime": {
     "end_time": "2021-07-15T11:50:00.680244Z",
     "start_time": "2021-07-15T11:50:00.656245Z"
    }
   },
   "outputs": [],
   "source": [
    "idx = train[(train['임대건물구분']=='아파트') & (train['신분']=='D')]['전용면적별세대수'].index\n",
    "train.loc[idx, '전용면적별세대수'] = 1\n",
    "train.loc[idx, '임대건물구분'] = '상가'"
   ]
  },
  {
   "cell_type": "code",
   "execution_count": 56,
   "id": "7e32c993",
   "metadata": {
    "ExecuteTime": {
     "end_time": "2021-07-15T11:50:04.812028Z",
     "start_time": "2021-07-15T11:50:04.772028Z"
    }
   },
   "outputs": [
    {
     "data": {
      "text/html": [
       "<div>\n",
       "<style scoped>\n",
       "    .dataframe tbody tr th:only-of-type {\n",
       "        vertical-align: middle;\n",
       "    }\n",
       "\n",
       "    .dataframe tbody tr th {\n",
       "        vertical-align: top;\n",
       "    }\n",
       "\n",
       "    .dataframe thead th {\n",
       "        text-align: right;\n",
       "    }\n",
       "</style>\n",
       "<table border=\"1\" class=\"dataframe\">\n",
       "  <thead>\n",
       "    <tr style=\"text-align: right;\">\n",
       "      <th></th>\n",
       "      <th>단지코드</th>\n",
       "      <th>총세대수</th>\n",
       "      <th>임대건물구분</th>\n",
       "      <th>지역</th>\n",
       "      <th>공급유형</th>\n",
       "      <th>전용면적</th>\n",
       "      <th>전용면적별세대수</th>\n",
       "      <th>공가수</th>\n",
       "      <th>신분</th>\n",
       "      <th>임대보증금</th>\n",
       "      <th>임대료</th>\n",
       "      <th>지하철</th>\n",
       "      <th>버스</th>\n",
       "      <th>단지내주차면수</th>\n",
       "      <th>등록차량수</th>\n",
       "    </tr>\n",
       "  </thead>\n",
       "  <tbody>\n",
       "    <tr>\n",
       "      <th>88</th>\n",
       "      <td>C1925</td>\n",
       "      <td>601</td>\n",
       "      <td>상가</td>\n",
       "      <td>5</td>\n",
       "      <td>임대상가</td>\n",
       "      <td>30.000000</td>\n",
       "      <td>1</td>\n",
       "      <td>9.000000</td>\n",
       "      <td>D</td>\n",
       "      <td>0.000000</td>\n",
       "      <td>0.000000</td>\n",
       "      <td>0</td>\n",
       "      <td>4.000000</td>\n",
       "      <td>117.000000</td>\n",
       "      <td>75.000000</td>\n",
       "    </tr>\n",
       "    <tr>\n",
       "      <th>89</th>\n",
       "      <td>C1925</td>\n",
       "      <td>601</td>\n",
       "      <td>상가</td>\n",
       "      <td>5</td>\n",
       "      <td>임대상가</td>\n",
       "      <td>30.000000</td>\n",
       "      <td>1</td>\n",
       "      <td>9.000000</td>\n",
       "      <td>D</td>\n",
       "      <td>0.000000</td>\n",
       "      <td>0.000000</td>\n",
       "      <td>0</td>\n",
       "      <td>4.000000</td>\n",
       "      <td>117.000000</td>\n",
       "      <td>75.000000</td>\n",
       "    </tr>\n",
       "    <tr>\n",
       "      <th>90</th>\n",
       "      <td>C1925</td>\n",
       "      <td>601</td>\n",
       "      <td>상가</td>\n",
       "      <td>5</td>\n",
       "      <td>임대상가</td>\n",
       "      <td>30.000000</td>\n",
       "      <td>1</td>\n",
       "      <td>9.000000</td>\n",
       "      <td>D</td>\n",
       "      <td>0.000000</td>\n",
       "      <td>0.000000</td>\n",
       "      <td>0</td>\n",
       "      <td>4.000000</td>\n",
       "      <td>117.000000</td>\n",
       "      <td>75.000000</td>\n",
       "    </tr>\n",
       "    <tr>\n",
       "      <th>91</th>\n",
       "      <td>C1925</td>\n",
       "      <td>601</td>\n",
       "      <td>상가</td>\n",
       "      <td>5</td>\n",
       "      <td>임대상가</td>\n",
       "      <td>70.000000</td>\n",
       "      <td>1</td>\n",
       "      <td>9.000000</td>\n",
       "      <td>D</td>\n",
       "      <td>0.000000</td>\n",
       "      <td>0.000000</td>\n",
       "      <td>0</td>\n",
       "      <td>4.000000</td>\n",
       "      <td>117.000000</td>\n",
       "      <td>75.000000</td>\n",
       "    </tr>\n",
       "    <tr>\n",
       "      <th>101</th>\n",
       "      <td>C1874</td>\n",
       "      <td>619</td>\n",
       "      <td>상가</td>\n",
       "      <td>7</td>\n",
       "      <td>임대상가</td>\n",
       "      <td>15.000000</td>\n",
       "      <td>1</td>\n",
       "      <td>2.000000</td>\n",
       "      <td>D</td>\n",
       "      <td>0.000000</td>\n",
       "      <td>0.000000</td>\n",
       "      <td>0</td>\n",
       "      <td>2.000000</td>\n",
       "      <td>97.000000</td>\n",
       "      <td>62.000000</td>\n",
       "    </tr>\n",
       "    <tr>\n",
       "      <th>...</th>\n",
       "      <td>...</td>\n",
       "      <td>...</td>\n",
       "      <td>...</td>\n",
       "      <td>...</td>\n",
       "      <td>...</td>\n",
       "      <td>...</td>\n",
       "      <td>...</td>\n",
       "      <td>...</td>\n",
       "      <td>...</td>\n",
       "      <td>...</td>\n",
       "      <td>...</td>\n",
       "      <td>...</td>\n",
       "      <td>...</td>\n",
       "      <td>...</td>\n",
       "      <td>...</td>\n",
       "    </tr>\n",
       "    <tr>\n",
       "      <th>2333</th>\n",
       "      <td>C1350</td>\n",
       "      <td>1401</td>\n",
       "      <td>상가</td>\n",
       "      <td>2</td>\n",
       "      <td>공공분양</td>\n",
       "      <td>70.000000</td>\n",
       "      <td>1</td>\n",
       "      <td>2.000000</td>\n",
       "      <td>D</td>\n",
       "      <td>0.000000</td>\n",
       "      <td>0.000000</td>\n",
       "      <td>0</td>\n",
       "      <td>6.000000</td>\n",
       "      <td>1636.000000</td>\n",
       "      <td>2315.000000</td>\n",
       "    </tr>\n",
       "    <tr>\n",
       "      <th>2334</th>\n",
       "      <td>C1350</td>\n",
       "      <td>1401</td>\n",
       "      <td>상가</td>\n",
       "      <td>2</td>\n",
       "      <td>공공분양</td>\n",
       "      <td>80.000000</td>\n",
       "      <td>1</td>\n",
       "      <td>2.000000</td>\n",
       "      <td>D</td>\n",
       "      <td>0.000000</td>\n",
       "      <td>0.000000</td>\n",
       "      <td>0</td>\n",
       "      <td>6.000000</td>\n",
       "      <td>1636.000000</td>\n",
       "      <td>2315.000000</td>\n",
       "    </tr>\n",
       "    <tr>\n",
       "      <th>2335</th>\n",
       "      <td>C1350</td>\n",
       "      <td>1401</td>\n",
       "      <td>상가</td>\n",
       "      <td>2</td>\n",
       "      <td>공공분양</td>\n",
       "      <td>80.000000</td>\n",
       "      <td>1</td>\n",
       "      <td>2.000000</td>\n",
       "      <td>D</td>\n",
       "      <td>0.000000</td>\n",
       "      <td>0.000000</td>\n",
       "      <td>0</td>\n",
       "      <td>6.000000</td>\n",
       "      <td>1636.000000</td>\n",
       "      <td>2315.000000</td>\n",
       "    </tr>\n",
       "    <tr>\n",
       "      <th>2336</th>\n",
       "      <td>C1350</td>\n",
       "      <td>1401</td>\n",
       "      <td>상가</td>\n",
       "      <td>2</td>\n",
       "      <td>공공분양</td>\n",
       "      <td>80.000000</td>\n",
       "      <td>1</td>\n",
       "      <td>2.000000</td>\n",
       "      <td>D</td>\n",
       "      <td>0.000000</td>\n",
       "      <td>0.000000</td>\n",
       "      <td>0</td>\n",
       "      <td>6.000000</td>\n",
       "      <td>1636.000000</td>\n",
       "      <td>2315.000000</td>\n",
       "    </tr>\n",
       "    <tr>\n",
       "      <th>2337</th>\n",
       "      <td>C1350</td>\n",
       "      <td>1401</td>\n",
       "      <td>상가</td>\n",
       "      <td>2</td>\n",
       "      <td>공공분양</td>\n",
       "      <td>80.000000</td>\n",
       "      <td>1</td>\n",
       "      <td>2.000000</td>\n",
       "      <td>D</td>\n",
       "      <td>0.000000</td>\n",
       "      <td>0.000000</td>\n",
       "      <td>0</td>\n",
       "      <td>6.000000</td>\n",
       "      <td>1636.000000</td>\n",
       "      <td>2315.000000</td>\n",
       "    </tr>\n",
       "  </tbody>\n",
       "</table>\n",
       "<p>569 rows × 15 columns</p>\n",
       "</div>"
      ],
      "text/plain": [
       "       단지코드  총세대수 임대건물구분  지역  공급유형      전용면적  전용면적별세대수      공가수 신분    임대보증금  \\\n",
       "88    C1925   601     상가   5  임대상가 30.000000         1 9.000000  D 0.000000   \n",
       "89    C1925   601     상가   5  임대상가 30.000000         1 9.000000  D 0.000000   \n",
       "90    C1925   601     상가   5  임대상가 30.000000         1 9.000000  D 0.000000   \n",
       "91    C1925   601     상가   5  임대상가 70.000000         1 9.000000  D 0.000000   \n",
       "101   C1874   619     상가   7  임대상가 15.000000         1 2.000000  D 0.000000   \n",
       "...     ...   ...    ...  ..   ...       ...       ...      ... ..      ...   \n",
       "2333  C1350  1401     상가   2  공공분양 70.000000         1 2.000000  D 0.000000   \n",
       "2334  C1350  1401     상가   2  공공분양 80.000000         1 2.000000  D 0.000000   \n",
       "2335  C1350  1401     상가   2  공공분양 80.000000         1 2.000000  D 0.000000   \n",
       "2336  C1350  1401     상가   2  공공분양 80.000000         1 2.000000  D 0.000000   \n",
       "2337  C1350  1401     상가   2  공공분양 80.000000         1 2.000000  D 0.000000   \n",
       "\n",
       "          임대료  지하철       버스     단지내주차면수       등록차량수  \n",
       "88   0.000000    0 4.000000  117.000000   75.000000  \n",
       "89   0.000000    0 4.000000  117.000000   75.000000  \n",
       "90   0.000000    0 4.000000  117.000000   75.000000  \n",
       "91   0.000000    0 4.000000  117.000000   75.000000  \n",
       "101  0.000000    0 2.000000   97.000000   62.000000  \n",
       "...       ...  ...      ...         ...         ...  \n",
       "2333 0.000000    0 6.000000 1636.000000 2315.000000  \n",
       "2334 0.000000    0 6.000000 1636.000000 2315.000000  \n",
       "2335 0.000000    0 6.000000 1636.000000 2315.000000  \n",
       "2336 0.000000    0 6.000000 1636.000000 2315.000000  \n",
       "2337 0.000000    0 6.000000 1636.000000 2315.000000  \n",
       "\n",
       "[569 rows x 15 columns]"
      ]
     },
     "execution_count": 56,
     "metadata": {},
     "output_type": "execute_result"
    }
   ],
   "source": [
    "train[(train['임대건물구분']=='상가') & (train['신분']=='D')]"
   ]
  },
  {
   "cell_type": "code",
   "execution_count": 10,
   "id": "6802e035",
   "metadata": {},
   "outputs": [],
   "source": [
    "# 원핫 인코딩\n",
    "#train = pd.get_dummies(data = train, columns = ['지하철'])"
   ]
  },
  {
   "cell_type": "markdown",
   "id": "39d4618c",
   "metadata": {},
   "source": [
    "# 지역명 숫자로 매핑"
   ]
  },
  {
   "cell_type": "code",
   "execution_count": 57,
   "id": "8cbf446a",
   "metadata": {
    "ExecuteTime": {
     "end_time": "2021-07-15T11:54:16.123315Z",
     "start_time": "2021-07-15T11:54:16.099516Z"
    }
   },
   "outputs": [],
   "source": [
    "local_map = {}\n",
    "for i, loc in enumerate(train['지역'].unique()):\n",
    "    local_map[loc] = i\n",
    "    \n",
    "train['지역'] = train['지역'].map(local_map)"
   ]
  },
  {
   "cell_type": "markdown",
   "id": "837efa3b",
   "metadata": {},
   "source": [
    "# 전용면적을 5의 배수로 변경"
   ]
  },
  {
   "cell_type": "code",
   "execution_count": 58,
   "id": "fd726145",
   "metadata": {
    "ExecuteTime": {
     "end_time": "2021-07-15T11:54:17.793255Z",
     "start_time": "2021-07-15T11:54:17.785221Z"
    }
   },
   "outputs": [],
   "source": [
    "train['전용면적'] = train['전용면적']//5*5"
   ]
  },
  {
   "cell_type": "markdown",
   "id": "e640c287",
   "metadata": {},
   "source": [
    "# 전용면적 상/하한 적용"
   ]
  },
  {
   "cell_type": "code",
   "execution_count": 59,
   "id": "d4067e14",
   "metadata": {
    "ExecuteTime": {
     "end_time": "2021-07-15T11:54:19.702522Z",
     "start_time": "2021-07-15T11:54:19.694521Z"
    }
   },
   "outputs": [],
   "source": [
    "idx = train[train['전용면적']>100].index\n",
    "train.loc[idx, '전용면적'] = 100\n",
    "\n",
    "idx = train[train['전용면적']<15].index\n",
    "train.loc[idx, '전용면적'] = 15"
   ]
  },
  {
   "cell_type": "code",
   "execution_count": 67,
   "id": "ec4c0fca",
   "metadata": {
    "ExecuteTime": {
     "end_time": "2021-07-15T11:57:47.917018Z",
     "start_time": "2021-07-15T11:57:47.877019Z"
    }
   },
   "outputs": [
    {
     "name": "stdout",
     "output_type": "stream",
     "text": [
      "<class 'pandas.core.frame.DataFrame'>\n",
      "RangeIndex: 2952 entries, 0 to 2951\n",
      "Data columns (total 15 columns):\n",
      " #   Column    Non-Null Count  Dtype  \n",
      "---  ------    --------------  -----  \n",
      " 0   단지코드      2952 non-null   object \n",
      " 1   총세대수      2952 non-null   int64  \n",
      " 2   임대건물구분    2952 non-null   object \n",
      " 3   지역        2952 non-null   int64  \n",
      " 4   공급유형      2952 non-null   object \n",
      " 5   전용면적      2952 non-null   float64\n",
      " 6   전용면적별세대수  2952 non-null   int64  \n",
      " 7   공가수       2952 non-null   float64\n",
      " 8   신분        2952 non-null   object \n",
      " 9   임대보증금     2952 non-null   float64\n",
      " 10  임대료       2952 non-null   float64\n",
      " 11  지하철       2952 non-null   int32  \n",
      " 12  버스        2952 non-null   float64\n",
      " 13  단지내주차면수   2952 non-null   float64\n",
      " 14  등록차량수     2952 non-null   float64\n",
      "dtypes: float64(7), int32(1), int64(3), object(4)\n",
      "memory usage: 334.5+ KB\n"
     ]
    }
   ],
   "source": [
    "train.info()"
   ]
  },
  {
   "cell_type": "markdown",
   "id": "300cd409",
   "metadata": {},
   "source": [
    "# test 불러오기"
   ]
  },
  {
   "cell_type": "code",
   "execution_count": 60,
   "id": "405d1fd7",
   "metadata": {
    "ExecuteTime": {
     "end_time": "2021-07-15T11:54:21.384394Z",
     "start_time": "2021-07-15T11:54:21.368393Z"
    }
   },
   "outputs": [],
   "source": [
    "test.columns = [\n",
    "    '단지코드', '총세대수', '임대건물구분', '지역', '공급유형', '전용면적', '전용면적별세대수', '공가수', '신분',\n",
    "    '임대보증금', '임대료', '지하철', '버스',\n",
    "    '단지내주차면수'\n",
    "]"
   ]
  },
  {
   "cell_type": "code",
   "execution_count": 61,
   "id": "c6d9caa1",
   "metadata": {
    "ExecuteTime": {
     "end_time": "2021-07-15T11:54:23.328233Z",
     "start_time": "2021-07-15T11:54:23.306223Z"
    }
   },
   "outputs": [
    {
     "data": {
      "text/plain": [
       "단지코드        0\n",
       "총세대수        0\n",
       "임대건물구분      0\n",
       "지역          0\n",
       "공급유형        0\n",
       "전용면적        0\n",
       "전용면적별세대수    0\n",
       "공가수         0\n",
       "신분          0\n",
       "임대보증금       0\n",
       "임대료         0\n",
       "지하철         0\n",
       "버스          0\n",
       "단지내주차면수     0\n",
       "dtype: int64"
      ]
     },
     "execution_count": 61,
     "metadata": {},
     "output_type": "execute_result"
    }
   ],
   "source": [
    "test.isnull().sum()"
   ]
  },
  {
   "cell_type": "code",
   "execution_count": 62,
   "id": "3e5a344d",
   "metadata": {
    "ExecuteTime": {
     "end_time": "2021-07-15T11:54:24.957918Z",
     "start_time": "2021-07-15T11:54:24.941917Z"
    }
   },
   "outputs": [],
   "source": [
    "test.loc[test.임대보증금=='-', '임대보증금'] = np.nan\n",
    "test.loc[test.임대료=='-', '임대료'] = np.nan\n",
    "test['임대보증금'] = test['임대보증금'].astype(float)\n",
    "test['임대료'] = test['임대료'].astype(float)\n",
    "test['임대보증금'] = test['임대보증금'].fillna(0)\n",
    "test['임대료'] = test['임대료'].fillna(0)"
   ]
  },
  {
   "cell_type": "code",
   "execution_count": 63,
   "id": "8f296691",
   "metadata": {
    "ExecuteTime": {
     "end_time": "2021-07-15T11:54:26.995144Z",
     "start_time": "2021-07-15T11:54:26.987144Z"
    }
   },
   "outputs": [],
   "source": [
    "test['지하철'] = test['지하철'].fillna(test['지하철'].mean())"
   ]
  },
  {
   "cell_type": "code",
   "execution_count": 64,
   "id": "ce2ae6a1",
   "metadata": {
    "ExecuteTime": {
     "end_time": "2021-07-15T11:54:28.243095Z",
     "start_time": "2021-07-15T11:54:28.227129Z"
    }
   },
   "outputs": [],
   "source": [
    "test.loc[test.단지코드.isin(['C2411']) & test.신분.isnull(), '신분'] = 'A'\n",
    "test.loc[test.단지코드.isin(['C2253']) & test.신분.isnull(), '신분'] = 'C'"
   ]
  },
  {
   "cell_type": "code",
   "execution_count": 68,
   "id": "270b6f5f",
   "metadata": {
    "ExecuteTime": {
     "end_time": "2021-07-15T11:59:08.722292Z",
     "start_time": "2021-07-15T11:59:08.714258Z"
    }
   },
   "outputs": [],
   "source": [
    "local_map = {}\n",
    "for i, loc in enumerate(test['지역'].unique()):\n",
    "    local_map[loc] = i\n",
    "    \n",
    "test['지역'] = test['지역'].map(local_map)"
   ]
  },
  {
   "cell_type": "code",
   "execution_count": 65,
   "id": "a2023acd",
   "metadata": {
    "ExecuteTime": {
     "end_time": "2021-07-15T11:54:29.521547Z",
     "start_time": "2021-07-15T11:54:29.513522Z"
    }
   },
   "outputs": [
    {
     "data": {
      "text/plain": [
       "단지코드        0\n",
       "총세대수        0\n",
       "임대건물구분      0\n",
       "지역          0\n",
       "공급유형        0\n",
       "전용면적        0\n",
       "전용면적별세대수    0\n",
       "공가수         0\n",
       "신분          0\n",
       "임대보증금       0\n",
       "임대료         0\n",
       "지하철         0\n",
       "버스          0\n",
       "단지내주차면수     0\n",
       "dtype: int64"
      ]
     },
     "execution_count": 65,
     "metadata": {},
     "output_type": "execute_result"
    }
   ],
   "source": [
    "test.isnull().sum()"
   ]
  },
  {
   "cell_type": "code",
   "execution_count": 66,
   "id": "d7d3c8db",
   "metadata": {
    "ExecuteTime": {
     "end_time": "2021-07-15T11:54:31.802490Z",
     "start_time": "2021-07-15T11:54:31.786491Z"
    }
   },
   "outputs": [],
   "source": [
    "columns = ['총세대수', '지역', '전용면적별세대수', '공가수', '임대보증금', '임대료', '지하철', '버스', '단지내주차면수']\n",
    "target = '등록차량수'\n",
    "area_columns = []\n",
    "for area in train['전용면적'].unique():\n",
    "    area_columns.append(f'면적_{area}')"
   ]
  },
  {
   "cell_type": "code",
   "execution_count": 44,
   "id": "1d6a9bbf",
   "metadata": {
    "ExecuteTime": {
     "end_time": "2021-07-15T11:46:38.560945Z",
     "start_time": "2021-07-15T11:46:38.544943Z"
    }
   },
   "outputs": [],
   "source": [
    "new_train = pd.DataFrame()\n",
    "new_test = pd.DataFrame()"
   ]
  },
  {
   "cell_type": "code",
   "execution_count": 45,
   "id": "31ea70d1",
   "metadata": {
    "ExecuteTime": {
     "end_time": "2021-07-15T11:46:46.834631Z",
     "start_time": "2021-07-15T11:46:40.460265Z"
    }
   },
   "outputs": [
    {
     "name": "stderr",
     "output_type": "stream",
     "text": [
      "423it [00:04, 92.87it/s]\n",
      "150it [00:01, 83.54it/s]\n"
     ]
    }
   ],
   "source": [
    "for i, code in tqdm(enumerate(train['단지코드'].unique())):\n",
    "    temp = train[train['단지코드']==code]\n",
    "    temp.index = range(temp.shape[0])\n",
    "    for col in columns:\n",
    "        new_train.loc[i, col] = temp.loc[0, col]\n",
    "    \n",
    "    for col in area_columns:\n",
    "        area = float(col.split('_')[-1])\n",
    "        new_train.loc[i, col] = temp[temp['전용면적']==area]['전용면적별세대수'].sum()\n",
    "    \n",
    "    new_train.loc[i, '등록차량수'] = temp.loc[0, '등록차량수']\n",
    "\n",
    "for i, code in tqdm(enumerate(test['단지코드'].unique())):\n",
    "    temp = test[test['단지코드']==code]\n",
    "    temp.index = range(temp.shape[0])\n",
    "    for col in columns:\n",
    "        new_test.loc[i, col] = temp.loc[0, col]\n",
    "    \n",
    "    for col in area_columns:\n",
    "        area = float(col.split('_')[-1])\n",
    "        new_test.loc[i, col] = temp[temp['전용면적']==area]['전용면적별세대수'].sum()"
   ]
  },
  {
   "cell_type": "code",
   "execution_count": 24,
   "id": "1ecf366d",
   "metadata": {},
   "outputs": [],
   "source": [
    "x_train = new_train.iloc[:, 1:-1]\n",
    "y_train = new_train.iloc[:,-1]\n",
    "x_test = new_test.iloc[:,1:]"
   ]
  },
  {
   "cell_type": "code",
   "execution_count": 28,
   "id": "db70b735",
   "metadata": {},
   "outputs": [
    {
     "data": {
      "text/plain": [
       "RandomForestRegressor(n_jobs=-1, random_state=42)"
      ]
     },
     "execution_count": 28,
     "metadata": {},
     "output_type": "execute_result"
    }
   ],
   "source": [
    "forest = RandomForestRegressor(n_jobs=-1, random_state=42)\n",
    "forest.fit(x_train, y_train)"
   ]
  },
  {
   "cell_type": "code",
   "execution_count": 29,
   "id": "67f28227",
   "metadata": {},
   "outputs": [],
   "source": [
    "pred = forest.predict(x_test)\n",
    "#pred"
   ]
  },
  {
   "cell_type": "code",
   "execution_count": 30,
   "id": "f5ce95c9",
   "metadata": {},
   "outputs": [],
   "source": [
    "submission['num'] = pred"
   ]
  },
  {
   "cell_type": "code",
   "execution_count": 31,
   "id": "4c1491a5",
   "metadata": {},
   "outputs": [],
   "source": [
    "submission.to_csv('baseline.csv', index=False)"
   ]
  }
 ],
 "metadata": {
  "kernelspec": {
   "display_name": "Python 3",
   "language": "python",
   "name": "python3"
  },
  "language_info": {
   "codemirror_mode": {
    "name": "ipython",
    "version": 3
   },
   "file_extension": ".py",
   "mimetype": "text/x-python",
   "name": "python",
   "nbconvert_exporter": "python",
   "pygments_lexer": "ipython3",
   "version": "3.7.10"
  },
  "toc": {
   "base_numbering": 1,
   "nav_menu": {},
   "number_sections": true,
   "sideBar": true,
   "skip_h1_title": false,
   "title_cell": "Table of Contents",
   "title_sidebar": "Contents",
   "toc_cell": false,
   "toc_position": {},
   "toc_section_display": true,
   "toc_window_display": false
  },
  "varInspector": {
   "cols": {
    "lenName": 16,
    "lenType": 16,
    "lenVar": 40
   },
   "kernels_config": {
    "python": {
     "delete_cmd_postfix": "",
     "delete_cmd_prefix": "del ",
     "library": "var_list.py",
     "varRefreshCmd": "print(var_dic_list())"
    },
    "r": {
     "delete_cmd_postfix": ") ",
     "delete_cmd_prefix": "rm(",
     "library": "var_list.r",
     "varRefreshCmd": "cat(var_dic_list()) "
    }
   },
   "types_to_exclude": [
    "module",
    "function",
    "builtin_function_or_method",
    "instance",
    "_Feature"
   ],
   "window_display": false
  }
 },
 "nbformat": 4,
 "nbformat_minor": 5
}
